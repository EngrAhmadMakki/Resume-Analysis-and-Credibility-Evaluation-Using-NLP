{
 "cells": [
  {
   "cell_type": "markdown",
   "metadata": {
    "id": "gC3XifaXmtMX"
   },
   "source": [
    "# Project Title: Resume Analysis and Credibility Evaluation Using NLP\n",
    "\n",
    "## Project Description\n",
    "\n",
    "This project aims to develop a Python-based tool for processing and analyzing resumes to extract and evaluate key information using Natural Language Processing (NLP). The tool will utilize libraries such as PyMuPDF for PDF processing and python-docx for Word document processing. The core functionalities of the tool are as follows:\n",
    "\n",
    "### Installation of Necessary Libraries:\n",
    "\n",
    "- Install the required libraries: `PyMuPDF` for PDF text extraction and `python-docx` for Word document text extraction.\n",
    "\n",
    "### File Reading and Text Extraction:\n",
    "\n",
    "- Read Excel files containing lists of universities and companies.\n",
    "- Extract text from resumes provided in PDF format using `PyMuPDF`.\n",
    "- Extract text from resumes provided in Word (.docx) format using `python-docx`.\n",
    "\n",
    "### Named Entity Extraction:\n",
    "\n",
    "- Identify and extract named entities such as universities and companies from the resume text.\n",
    "\n",
    "### Resume Credibility Evaluation:\n",
    "\n",
    "- Implement a scoring system to assess the credibility of the resume based on the identified universities and companies.\n",
    "- Utilize the university rankings from the Excel file to assign points:\n",
    "  - Top-ranked university (1-10): +3 points\n",
    "  - Medium-ranked university (11-30): +2 points\n",
    "  - Lower-ranked university (31+): +1 point\n",
    "- Utilize the company status (Fortune 500) from the Excel file to assign points:\n",
    "  - Fortune 500 company: +2 points\n",
    "  - Recognized company (not Fortune 500): +1 point\n",
    "- Limit the total credibility score to a maximum of 10 points.\n",
    "\n",
    "### Output the Results:\n",
    "\n",
    "- Display the extracted universities and companies from the resume.\n",
    "- Print the credibility score along with an explanation of the rating scale.\n"
   ]
  },
  {
   "cell_type": "code",
   "execution_count": 24,
   "metadata": {
    "colab": {
     "base_uri": "https://localhost:8080/"
    },
    "id": "i3XjW6W-avpJ",
    "outputId": "87ae504d-57bf-409a-cddc-fe035a67c452"
   },
   "outputs": [
    {
     "name": "stdout",
     "output_type": "stream",
     "text": [
      "Requirement already satisfied: PyMuPDF in /usr/local/lib/python3.10/dist-packages (1.24.7)\n",
      "Requirement already satisfied: python-docx in /usr/local/lib/python3.10/dist-packages (1.1.2)\n",
      "Requirement already satisfied: pandas in /usr/local/lib/python3.10/dist-packages (2.0.3)\n",
      "Requirement already satisfied: openpyxl in /usr/local/lib/python3.10/dist-packages (3.1.5)\n",
      "Requirement already satisfied: PyMuPDFb==1.24.6 in /usr/local/lib/python3.10/dist-packages (from PyMuPDF) (1.24.6)\n",
      "Requirement already satisfied: lxml>=3.1.0 in /usr/local/lib/python3.10/dist-packages (from python-docx) (4.9.4)\n",
      "Requirement already satisfied: typing-extensions>=4.9.0 in /usr/local/lib/python3.10/dist-packages (from python-docx) (4.12.2)\n",
      "Requirement already satisfied: python-dateutil>=2.8.2 in /usr/local/lib/python3.10/dist-packages (from pandas) (2.8.2)\n",
      "Requirement already satisfied: pytz>=2020.1 in /usr/local/lib/python3.10/dist-packages (from pandas) (2023.4)\n",
      "Requirement already satisfied: tzdata>=2022.1 in /usr/local/lib/python3.10/dist-packages (from pandas) (2024.1)\n",
      "Requirement already satisfied: numpy>=1.21.0 in /usr/local/lib/python3.10/dist-packages (from pandas) (1.25.2)\n",
      "Requirement already satisfied: et-xmlfile in /usr/local/lib/python3.10/dist-packages (from openpyxl) (1.1.0)\n",
      "Requirement already satisfied: six>=1.5 in /usr/local/lib/python3.10/dist-packages (from python-dateutil>=2.8.2->pandas) (1.16.0)\n"
     ]
    }
   ],
   "source": [
    "!pip install PyMuPDF python-docx pandas openpyxl"
   ]
  },
  {
   "cell_type": "code",
   "execution_count": 25,
   "metadata": {
    "colab": {
     "base_uri": "https://localhost:8080/"
    },
    "id": "ythZlfoneqYb",
    "outputId": "bf9d1f59-8846-4b1b-fcd3-ac85e046b62b"
   },
   "outputs": [
    {
     "name": "stdout",
     "output_type": "stream",
     "text": [
      "Ali Khan \n",
      "Email: alikhan@example.com \n",
      "Phone: +92-333-1122334 \n",
      "LinkedIn: linkedin.com/in/alikhan \n",
      "Location: Rawalpindi, Pakistan \n",
      " \n",
      "Professional Summary: \n",
      "Dedicated and knowledgeable chemical engineer with over 7 years of experience in the \n",
      "chemicals industry. Expertise in process optimization, safety protocols, and project \n",
      "management. Committed to implementing innovative solutions to improve efficiency and \n",
      "ensure compliance with industry standards. \n",
      " \n",
      "Education: \n",
      "Master of Science in Chemical Engineering \n",
      "University of Engineering and Technology, Lahore \n",
      "Graduation Year: 2015 \n",
      "Bachelor of Science in Chemical Engineering \n",
      "National University of Sciences and Technology (NUST)                                                     \n",
      "Graduation Year: 2013 \n",
      " \n",
      "Professional Experience: \n",
      "Senior Chemical Engineer \n",
      "Fauji Fertilizer Company \n",
      "Location: Rawalpindi, Pakistan \n",
      "Duration: August 2017 - Present \n",
      "• \n",
      "Led process optimization projects resulting in a 15% increase in production \n",
      "efficiency. \n",
      "• \n",
      "Ensured compliance with safety standards and environmental regulations. \n",
      "• \n",
      "Managed a team of engineers and technicians to achieve project goals. \n",
      "Chemical Engineer \n",
      "Engro Corporation \n",
      "Location: Karachi, Pakistan \n",
      "Duration: June 2015 - July 2017 \n",
      "• \n",
      "Assisted in the design and implementation of chemical processes. \n",
      "• \n",
      "Conducted safety audits and risk assessments. \n",
      "• \n",
      "Collaborated with cross-functional teams to improve process performance. \n",
      " \n",
      "Skills: \n",
      "• \n",
      "Process Optimization \n",
      "• \n",
      "Safety Protocols \n",
      "• \n",
      "Project Management \n",
      "• \n",
      "Chemical Process Design \n",
      "• \n",
      "Environmental Compliance \n",
      "• \n",
      "Data Analysis (MATLAB, Excel) \n",
      " \n",
      "Certifications: \n",
      "• \n",
      "Professional Engineer (PE) \n",
      "• \n",
      "Six Sigma Green Belt \n",
      " \n",
      "Projects: \n",
      "Project Title: Waste Reduction Initiative \n",
      "Description: Implemented a waste reduction program that decreased waste by 25% and \n",
      "improved sustainability practices. \n",
      "Technologies Used: Lean Six Sigma, MATLAB \n",
      "Project Title: Energy Efficiency Improvement \n",
      "Description: Developed and executed an energy efficiency plan that reduced energy \n",
      "consumption by 10%. \n",
      "Technologies Used: Process Simulation Software, Excel \n",
      " \n",
      "Languages: \n",
      "• \n",
      "English: Fluent \n",
      "• \n",
      "Urdu: Native \n",
      "• \n",
      "Punjabi: Fluent \n",
      " \n",
      "References: \n",
      "Available upon request. \n",
      " \n",
      "Personal Information: \n",
      "• \n",
      "Nationality: Pakistani \n",
      "• \n",
      "Date of Birth: October 10, 1989 \n",
      "\n"
     ]
    }
   ],
   "source": [
    "import fitz  # PyMuPDF\n",
    "import pandas as pd\n",
    "\n",
    "# Load Excel file\n",
    "file_path_excel = '/content/pakistan_companies_universities (1).xlsx'\n",
    "df = pd.read_excel(file_path_excel)\n",
    "\n",
    "# Extract text from PDF\n",
    "file_path_pdf = '/content/AliKhanCV.pdf'\n",
    "pdf_document = fitz.open(file_path_pdf)\n",
    "pdf_text = \"\"\n",
    "for page_num in range(len(pdf_document)):\n",
    "    page = pdf_document.load_page(page_num)\n",
    "    pdf_text += page.get_text()\n",
    "\n",
    "# Display the extracted text from the PDF\n",
    "print(pdf_text)"
   ]
  },
  {
   "cell_type": "code",
   "execution_count": 26,
   "metadata": {
    "colab": {
     "base_uri": "https://localhost:8080/"
    },
    "id": "PK8Q1Rp8evLl",
    "outputId": "d5c006b4-94d9-472f-9989-101dfab5f7be"
   },
   "outputs": [
    {
     "name": "stdout",
     "output_type": "stream",
     "text": [
      "Ali Khan \n",
      "Email: alikhan@example.com \n",
      "Phone: +92-333-1122334 \n",
      "LinkedIn: linkedin.com/in/alikhan \n",
      "Location: Rawalpindi, Pakistan \n",
      " \n",
      "Professional Summary: \n",
      "Dedicated and knowledgeable chemical engineer with over 7 years of experience in the \n",
      "chemicals industry. Expertise in process optimization, safety protocols, and project \n",
      "management. Committed to implementing innovative solutions to improve efficiency and \n",
      "ensure compliance with industry standards. \n",
      " \n",
      "Education: \n",
      "Master of Science in Chemical Engineering \n",
      "University of Engineering and Technology, Lahore \n",
      "Graduation Year: 2015 \n",
      "Bachelor of Science in Chemical Engineering \n",
      "National University of Sciences and Technology (NUST)                                                     \n",
      "Graduation Year: 2013 \n",
      " \n",
      "Professional Experience: \n",
      "Senior Chemical Engineer \n",
      "Fauji Fertilizer Company \n",
      "Location: Rawalpindi, Pakistan \n",
      "Duration: August 2017 - Present \n",
      "• \n",
      "Led process optimization projects resulting in a 15% increase in production \n",
      "efficiency. \n",
      "• \n",
      "Ensured compliance with safety standards and environmental regulations. \n",
      "• \n",
      "Managed a team of engineers and technicians to achieve project goals. \n",
      "Chemical Engineer \n",
      "Engro Corporation \n",
      "Location: Karachi, Pakistan \n",
      "Duration: June 2015 - July 2017 \n",
      "• \n",
      "Assisted in the design and implementation of chemical processes. \n",
      "• \n",
      "Conducted safety audits and risk assessments. \n",
      "• \n",
      "Collaborated with cross-functional teams to improve process performance. \n",
      " \n",
      "Skills: \n",
      "• \n",
      "Process Optimization \n",
      "• \n",
      "Safety Protocols \n",
      "• \n",
      "Project Management \n",
      "• \n",
      "Chemical Process Design \n",
      "• \n",
      "Environmental Compliance \n",
      "• \n",
      "Data Analysis (MATLAB, Excel) \n",
      " \n",
      "Certifications: \n",
      "• \n",
      "Professional Engineer (PE) \n",
      "• \n",
      "Six Sigma Green Belt \n",
      " \n",
      "Projects: \n",
      "Project Title: Waste Reduction Initiative \n",
      "Description: Implemented a waste reduction program that decreased waste by 25% and \n",
      "improved sustainability practices. \n",
      "Technologies Used: Lean Six Sigma, MATLAB \n",
      "Project Title: Energy Efficiency Improvement \n",
      "Description: Developed and executed an energy efficiency plan that reduced energy \n",
      "consumption by 10%. \n",
      "Technologies Used: Process Simulation Software, Excel \n",
      " \n",
      "Languages: \n",
      "• \n",
      "English: Fluent \n",
      "• \n",
      "Urdu: Native \n",
      "• \n",
      "Punjabi: Fluent \n",
      " \n",
      "References: \n",
      "Available upon request. \n",
      " \n",
      "Personal Information: \n",
      "• \n",
      "Nationality: Pakistani \n",
      "• \n",
      "Date of Birth: October 10, 1989 \n",
      "\n"
     ]
    }
   ],
   "source": [
    "import fitz  # PyMuPDF\n",
    "import pandas as pd\n",
    "\n",
    "# Load Excel file and read both sheets\n",
    "file_path_excel = '/content/pakistan_companies_universities (1).xlsx'\n",
    "df_companies = pd.read_excel(file_path_excel, sheet_name='Companies')\n",
    "df_universities = pd.read_excel(file_path_excel, sheet_name='Universities')\n",
    "\n",
    "# Extract text from PDF\n",
    "file_path_pdf = '/content/AliKhanCV.pdf'\n",
    "pdf_document = fitz.open(file_path_pdf)\n",
    "pdf_text = \"\"\n",
    "for page_num in range(len(pdf_document)):\n",
    "    page = pdf_document.load_page(page_num)\n",
    "    pdf_text += page.get_text()\n",
    "\n",
    "# Display the extracted text from the PDF\n",
    "print(pdf_text)"
   ]
  },
  {
   "cell_type": "code",
   "execution_count": 27,
   "metadata": {
    "colab": {
     "base_uri": "https://localhost:8080/"
    },
    "id": "euZu0MaKfalX",
    "outputId": "9b6ff5dd-f62d-4591-c1f4-f53991fa6763"
   },
   "outputs": [
    {
     "name": "stdout",
     "output_type": "stream",
     "text": [
      "Extracted Universities: ['University of Engineering and Technology, Lahore', 'University of Engineering and Technology, Lahore']\n",
      "Extracted Companies: ['Engro Corporation', 'Fauji Fertilizer Company']\n"
     ]
    }
   ],
   "source": [
    "import re\n",
    "\n",
    "# List of universities and companies from Excel sheets\n",
    "universities = df_universities['University'].dropna().tolist()\n",
    "companies = df_companies['Company'].dropna().tolist()\n",
    "\n",
    "# Extract universities and companies from resume text\n",
    "extracted_universities = [uni for uni in universities if re.search(r'\\b' + re.escape(uni) + r'\\b', pdf_text)]\n",
    "extracted_companies = [comp for comp in companies if re.search(r'\\b' + re.escape(comp) + r'\\b', pdf_text)]\n",
    "\n",
    "# Display the extracted entities\n",
    "print(\"Extracted Universities:\", extracted_universities)\n",
    "print(\"Extracted Companies:\", extracted_companies)"
   ]
  },
  {
   "cell_type": "code",
   "execution_count": 30,
   "metadata": {
    "id": "a1IYNkNHhLGo"
   },
   "outputs": [],
   "source": [
    "def evaluate_credibility(extracted_universities, extracted_companies):\n",
    "    score = 0\n",
    "    explanation = []\n",
    "\n",
    "    # Assign points for universities based on ranking\n",
    "    for uni in extracted_universities:\n",
    "        if uni in df_universities['University'].values:\n",
    "            ranking = df_universities.loc[df_universities['University'] == uni, 'Ranking'].values[0]\n",
    "            if ranking <= 10:\n",
    "                score += 3  # Top-ranked university\n",
    "                explanation.append(f\"Top-ranked University (1-10): {uni} (+3 points)\")\n",
    "            elif ranking <= 30:\n",
    "                score += 2  # Medium-ranked university\n",
    "                explanation.append(f\"Medium-ranked University (11-30): {uni} (+2 points)\")\n",
    "            else:\n",
    "                score += 1  # Lower-ranked university\n",
    "                explanation.append(f\"Lower-ranked University (31+): {uni} (+1 point)\")\n",
    "\n",
    "    # Assign points for companies based on Fortune 500 status\n",
    "    for comp in extracted_companies:\n",
    "        if comp in df_companies['Company'].values:\n",
    "            is_fortune_500 = df_companies.loc[df_companies['Company'] == comp, 'Fortune 500'].values[0]\n",
    "            if is_fortune_500 == 'Yes':\n",
    "                score += 2  # Fortune 500 company\n",
    "                explanation.append(f\"Fortune 500 Company: {comp} (+2 points)\")\n",
    "            else:\n",
    "                score += 1  # Recognized company but not Fortune 500\n",
    "                explanation.append(f\"Recognized Company (not Fortune 500): {comp} (+1 point)\")\n",
    "\n",
    "    # Limit the score to a maximum of 10\n",
    "    score = min(score, 10)\n",
    "    return score, explanation\n",
    "\n",
    "credibility_score, credibility_explanation = evaluate_credibility(extracted_universities, extracted_companies)"
   ]
  },
  {
   "cell_type": "code",
   "execution_count": 31,
   "metadata": {
    "colab": {
     "base_uri": "https://localhost:8080/"
    },
    "id": "vsL64FKZhpfQ",
    "outputId": "e0eb5939-7406-4cbd-eb98-4326f8979478"
   },
   "outputs": [
    {
     "name": "stdout",
     "output_type": "stream",
     "text": [
      "Extracted Universities: ['University of Engineering and Technology, Lahore', 'University of Engineering and Technology, Lahore']\n",
      "Extracted Companies: ['Engro Corporation', 'Fauji Fertilizer Company']\n",
      "Credibility Score: 8 / 10\n",
      "Explanation of Rating:\n",
      "Top-ranked University (1-10): University of Engineering and Technology, Lahore (+3 points)\n",
      "Top-ranked University (1-10): University of Engineering and Technology, Lahore (+3 points)\n",
      "Recognized Company (not Fortune 500): Engro Corporation (+1 point)\n",
      "Recognized Company (not Fortune 500): Fauji Fertilizer Company (+1 point)\n"
     ]
    }
   ],
   "source": [
    "# Print the extracted entities\n",
    "print(\"Extracted Universities:\", extracted_universities)\n",
    "print(\"Extracted Companies:\", extracted_companies)\n",
    "\n",
    "# Print the credibility score and explanation\n",
    "print(f\"Credibility Score: {credibility_score} / 10\")\n",
    "print(\"Explanation of Rating:\")\n",
    "for item in credibility_explanation:\n",
    "    print(item)"
   ]
  }
 ],
 "metadata": {
  "colab": {
   "provenance": []
  },
  "kernelspec": {
   "display_name": "Python 3 (ipykernel)",
   "language": "python",
   "name": "python3"
  },
  "language_info": {
   "codemirror_mode": {
    "name": "ipython",
    "version": 3
   },
   "file_extension": ".py",
   "mimetype": "text/x-python",
   "name": "python",
   "nbconvert_exporter": "python",
   "pygments_lexer": "ipython3",
   "version": "3.11.7"
  }
 },
 "nbformat": 4,
 "nbformat_minor": 4
}
